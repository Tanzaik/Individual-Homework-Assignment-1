{
  "metadata": {
    "kernelspec": {
      "name": "xpython",
      "display_name": "Python 3.13 (XPython)",
      "language": "python"
    },
    "language_info": {
      "file_extension": ".py",
      "mimetype": "text/x-python",
      "name": "python",
      "version": "3.13.1"
    }
  },
  "nbformat_minor": 5,
  "nbformat": 4,
  "cells": [
    {
      "id": "fbe6ad5c-30d1-4f54-9e01-4b3ea7fa8e40",
      "cell_type": "code",
      "source": "# Individual Homework Assignment 1\n# Name: Tanzim Amin  \n# Date: August 12, 2025",
      "metadata": {
        "trusted": true
      },
      "outputs": [],
      "execution_count": 41
    },
    {
      "id": "e870f05f-777f-44fb-b5af-f251b9865040",
      "cell_type": "code",
      "source": "import random\n\n# Integrand Functions\ndef integrand_pi(x):\n    return 1 / (1 + x**2)  # 1 / (1 + x^2) for Pi estimation\n\ndef integrand_second(x):\n    return 10 / (1 + 100 * x**2)  # 10 / (1 + 100x^2) for second integral",
      "metadata": {
        "trusted": true
      },
      "outputs": [],
      "execution_count": 42
    },
    {
      "id": "c6dfd824-1f3b-450b-9b46-7557b060202c",
      "cell_type": "code",
      "source": "# Estimation Functions\ndef estimate_pi(num_points):  # Monte Carlo estimate of π\n    total = 0.0\n    for _ in range(num_points):\n        x = random.uniform(0, 1)      # Step 1: Random x in [0, 1]\n        total += integrand_pi(x)      # Step 2: Evaluate function at x\n    integral_estimate = total / num_points  # Step 3: Average value\n    return 4 * integral_estimate     # Step 4: Multiply by 4 to estimate π\n\ndef estimate_second_integral(num_points):  # Monte Carlo estimate of second integral\n    total = 0.0\n    for _ in range(num_points):\n        x = random.uniform(0, 1)\n        total += integrand_second(x)\n    return total / num_points\n",
      "metadata": {
        "trusted": true
      },
      "outputs": [],
      "execution_count": 43
    },
    {
      "id": "7c61dbfe-8aea-40d6-a50b-01e6ca96f9d5",
      "cell_type": "code",
      "source": "# Test cases\nif __name__ == \"__main__\":\n    random.seed(42)  # Make results reproducible\n\n    # True values for comparison\n    true_pi = math.pi\n    true_second_integral = math.atan(10)\n    tolerance = 0.05  # Acceptable Monte Carlo error\n\n    # Assertions (rubric requirement) \n    assert abs(estimate_pi(10000) - true_pi) < tolerance\n    assert abs(estimate_second_integral(10000) - true_second_integral) < tolerance\n    assert abs(estimate_pi(50000) - true_pi) < tolerance  # third test case\n\n    # Output for visibility \n    print(\"All tests passed!\\n\")\n    print(\"Estimate pi with 1000 points:\", estimate_pi(1000))\n    print(\"Estimate pi with 10000 points:\", estimate_pi(10000))\n    print(\"Estimate second integral with 10000 points:\", estimate_second_integral(10000))",
      "metadata": {
        "trusted": true
      },
      "outputs": [
        {
          "name": "stdout",
          "output_type": "stream",
          "text": "All tests passed!\n\nEstimate pi with 1000 points: 3.1430532922161616\nEstimate pi with 10000 points: 3.1339661903534264\nEstimate second integral with 10000 points: 1.465297686379572\n"
        }
      ],
      "execution_count": 44
    }
  ]
}